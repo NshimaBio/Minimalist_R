{
 "cells": [
  {
   "cell_type": "code",
   "execution_count": null,
   "metadata": {
    "vscode": {
     "languageId": "r"
    }
   },
   "outputs": [],
   "source": []
  },
  {
   "cell_type": "markdown",
   "metadata": {},
   "source": [
    "# 函数"
   ]
  },
  {
   "cell_type": "code",
   "execution_count": 2,
   "metadata": {
    "vscode": {
     "languageId": "r"
    }
   },
   "outputs": [],
   "source": [
    "funA = function(x,y,a,b)\n",
    "{\n",
    "    #some codes\n",
    "    maths = x+y*a/b\n",
    "    #some codes\n",
    "    return(maths)\n",
    "}"
   ]
  },
  {
   "cell_type": "code",
   "execution_count": 3,
   "metadata": {
    "vscode": {
     "languageId": "r"
    }
   },
   "outputs": [
    {
     "data": {
      "text/html": [
       "2.5"
      ],
      "text/latex": [
       "2.5"
      ],
      "text/markdown": [
       "2.5"
      ],
      "text/plain": [
       "[1] 2.5"
      ]
     },
     "metadata": {},
     "output_type": "display_data"
    }
   ],
   "source": [
    "funA(x=1,2,3,4)"
   ]
  },
  {
   "cell_type": "code",
   "execution_count": 9,
   "metadata": {
    "vscode": {
     "languageId": "r"
    }
   },
   "outputs": [],
   "source": [
    "funB = function(x,y,a,b)\n",
    "{\n",
    "    #some codes\n",
    "    .temp = x+y*a/b\n",
    "    #some codes\n",
    "    .temp2 = x*y-a^b\n",
    "    return(c(.temp,.temp2))\n",
    "}"
   ]
  },
  {
   "cell_type": "code",
   "execution_count": 10,
   "metadata": {
    "vscode": {
     "languageId": "r"
    }
   },
   "outputs": [
    {
     "data": {
      "text/html": [
       "<style>\n",
       ".list-inline {list-style: none; margin:0; padding: 0}\n",
       ".list-inline>li {display: inline-block}\n",
       ".list-inline>li:not(:last-child)::after {content: \"\\00b7\"; padding: 0 .5ex}\n",
       "</style>\n",
       "<ol class=list-inline><li>2.5</li><li>-79</li></ol>\n"
      ],
      "text/latex": [
       "\\begin{enumerate*}\n",
       "\\item 2.5\n",
       "\\item -79\n",
       "\\end{enumerate*}\n"
      ],
      "text/markdown": [
       "1. 2.5\n",
       "2. -79\n",
       "\n",
       "\n"
      ],
      "text/plain": [
       "[1]   2.5 -79.0"
      ]
     },
     "metadata": {},
     "output_type": "display_data"
    }
   ],
   "source": [
    "funB(1,2,3,4)"
   ]
  },
  {
   "cell_type": "code",
   "execution_count": 17,
   "metadata": {
    "vscode": {
     "languageId": "r"
    }
   },
   "outputs": [],
   "source": [
    "funB = function(x,y,a,b)\n",
    "{\n",
    "    #some codes\n",
    "    .temp = x+y*a/b\n",
    "    #some codes\n",
    "    .temp2 = LETTERS[x]\n",
    "    return(list(value=.temp,name=.temp2))\n",
    "}"
   ]
  },
  {
   "cell_type": "code",
   "execution_count": 18,
   "metadata": {
    "vscode": {
     "languageId": "r"
    }
   },
   "outputs": [
    {
     "data": {
      "text/html": [
       "<dl>\n",
       "\t<dt>$value</dt>\n",
       "\t\t<dd>2.5</dd>\n",
       "\t<dt>$name</dt>\n",
       "\t\t<dd>'A'</dd>\n",
       "</dl>\n"
      ],
      "text/latex": [
       "\\begin{description}\n",
       "\\item[\\$value] 2.5\n",
       "\\item[\\$name] 'A'\n",
       "\\end{description}\n"
      ],
      "text/markdown": [
       "$value\n",
       ":   2.5\n",
       "$name\n",
       ":   'A'\n",
       "\n",
       "\n"
      ],
      "text/plain": [
       "$value\n",
       "[1] 2.5\n",
       "\n",
       "$name\n",
       "[1] \"A\"\n"
      ]
     },
     "metadata": {},
     "output_type": "display_data"
    }
   ],
   "source": [
    "funB(1,2,3,4)"
   ]
  }
 ],
 "metadata": {
  "kernelspec": {
   "display_name": "R",
   "language": "R",
   "name": "ir"
  },
  "language_info": {
   "codemirror_mode": "r",
   "file_extension": ".r",
   "mimetype": "text/x-r-source",
   "name": "R",
   "pygments_lexer": "r",
   "version": "4.2.1"
  },
  "orig_nbformat": 4,
  "vscode": {
   "interpreter": {
    "hash": "6b0f197fc8c8c2af25487f3b4d8c3d8cc2ec6484244000c2e6194912a4bf7155"
   }
  }
 },
 "nbformat": 4,
 "nbformat_minor": 2
}
