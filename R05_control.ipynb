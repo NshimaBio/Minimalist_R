{
 "cells": [
  {
   "cell_type": "markdown",
   "metadata": {
    "vscode": {
     "languageId": "r"
    }
   },
   "source": [
    "# 控制流"
   ]
  },
  {
   "cell_type": "markdown",
   "metadata": {},
   "source": [
    "## ------------------if---------------------"
   ]
  },
  {
   "cell_type": "code",
   "execution_count": 1,
   "metadata": {
    "vscode": {
     "languageId": "r"
    }
   },
   "outputs": [
    {
     "name": "stdout",
     "output_type": "stream",
     "text": [
      "[1] \"significantly\"\n"
     ]
    }
   ],
   "source": [
    "p = 0.000001\n",
    "if(p<0.05) print(\"significantly\")"
   ]
  },
  {
   "cell_type": "code",
   "execution_count": 2,
   "metadata": {
    "vscode": {
     "languageId": "r"
    }
   },
   "outputs": [
    {
     "data": {
      "text/html": [
       "'significantly'"
      ],
      "text/latex": [
       "'significantly'"
      ],
      "text/markdown": [
       "'significantly'"
      ],
      "text/plain": [
       "[1] \"significantly\""
      ]
     },
     "metadata": {},
     "output_type": "display_data"
    }
   ],
   "source": [
    "ifelse(p<0.05,\"significantly\",\"NS\")"
   ]
  },
  {
   "cell_type": "code",
   "execution_count": 8,
   "metadata": {
    "vscode": {
     "languageId": "r"
    }
   },
   "outputs": [
    {
     "data": {
      "text/html": [
       "'*'"
      ],
      "text/latex": [
       "'*'"
      ],
      "text/markdown": [
       "'*'"
      ],
      "text/plain": [
       "[1] \"*\""
      ]
     },
     "metadata": {},
     "output_type": "display_data"
    }
   ],
   "source": [
    "if (p < 0.0001) {\n",
    "    label <- \"***\"\n",
    "} else if (p < 0.001) {\n",
    "    label <- \"**\"\n",
    "} else if (p < 0.032) {\n",
    "    label <- \"*\"\n",
    "} else {\n",
    "    label <- \"NS\"\n",
    "}\n",
    "label"
   ]
  },
  {
   "cell_type": "markdown",
   "metadata": {},
   "source": [
    "## ------------------for---------------------"
   ]
  },
  {
   "cell_type": "code",
   "execution_count": 1,
   "metadata": {
    "vscode": {
     "languageId": "r"
    }
   },
   "outputs": [],
   "source": [
    "v1 = 1:6"
   ]
  },
  {
   "cell_type": "code",
   "execution_count": 2,
   "metadata": {
    "vscode": {
     "languageId": "r"
    }
   },
   "outputs": [
    {
     "name": "stdout",
     "output_type": "stream",
     "text": [
      "[1] 2\n",
      "[1] 3\n",
      "[1] 4\n",
      "[1] 5\n",
      "[1] 6\n",
      "[1] 7\n"
     ]
    }
   ],
   "source": [
    "for(i in v1)\n",
    "{\n",
    "    print(i+1)\n",
    "}"
   ]
  },
  {
   "cell_type": "markdown",
   "metadata": {},
   "source": [
    "## ------------------case_when---------------------"
   ]
  },
  {
   "cell_type": "code",
   "execution_count": 6,
   "metadata": {
    "vscode": {
     "languageId": "r"
    }
   },
   "outputs": [
    {
     "name": "stderr",
     "output_type": "stream",
     "text": [
      "-- \u001b[1mAttaching packages\u001b[22m --------------------------------------- tidyverse 1.3.1 --\n",
      "\n",
      "\u001b[32mv\u001b[39m \u001b[34mggplot2\u001b[39m 3.3.6     \u001b[32mv\u001b[39m \u001b[34mpurrr  \u001b[39m 0.3.4\n",
      "\u001b[32mv\u001b[39m \u001b[34mtibble \u001b[39m 3.1.7     \u001b[32mv\u001b[39m \u001b[34mdplyr  \u001b[39m 1.0.9\n",
      "\u001b[32mv\u001b[39m \u001b[34mtidyr  \u001b[39m 1.2.0     \u001b[32mv\u001b[39m \u001b[34mstringr\u001b[39m 1.4.0\n",
      "\u001b[32mv\u001b[39m \u001b[34mreadr  \u001b[39m 2.1.2     \u001b[32mv\u001b[39m \u001b[34mforcats\u001b[39m 0.5.1\n",
      "\n",
      "-- \u001b[1mConflicts\u001b[22m ------------------------------------------ tidyverse_conflicts() --\n",
      "\u001b[31mx\u001b[39m \u001b[34mdplyr\u001b[39m::\u001b[32mfilter()\u001b[39m masks \u001b[34mstats\u001b[39m::filter()\n",
      "\u001b[31mx\u001b[39m \u001b[34mdplyr\u001b[39m::\u001b[32mlag()\u001b[39m    masks \u001b[34mstats\u001b[39m::lag()\n",
      "\n"
     ]
    }
   ],
   "source": [
    "library(tidyverse)"
   ]
  },
  {
   "cell_type": "code",
   "execution_count": 3,
   "metadata": {
    "vscode": {
     "languageId": "r"
    }
   },
   "outputs": [],
   "source": [
    "stage <- c(\"III\", \"II 期\", \"Stage IA\", \"Stage III\", \"IVB\",\"缺失\")"
   ]
  },
  {
   "cell_type": "code",
   "execution_count": 7,
   "metadata": {
    "vscode": {
     "languageId": "r"
    }
   },
   "outputs": [
    {
     "data": {
      "text/html": [
       "<style>\n",
       ".list-inline {list-style: none; margin:0; padding: 0}\n",
       ".list-inline>li {display: inline-block}\n",
       ".list-inline>li:not(:last-child)::after {content: \"\\00b7\"; padding: 0 .5ex}\n",
       "</style>\n",
       "<ol class=list-inline><li>3</li><li>2</li><li>1</li><li>3</li><li>4</li><li>0</li></ol>\n"
      ],
      "text/latex": [
       "\\begin{enumerate*}\n",
       "\\item 3\n",
       "\\item 2\n",
       "\\item 1\n",
       "\\item 3\n",
       "\\item 4\n",
       "\\item 0\n",
       "\\end{enumerate*}\n"
      ],
      "text/markdown": [
       "1. 3\n",
       "2. 2\n",
       "3. 1\n",
       "4. 3\n",
       "5. 4\n",
       "6. 0\n",
       "\n",
       "\n"
      ],
      "text/plain": [
       "[1] 3 2 1 3 4 0"
      ]
     },
     "metadata": {},
     "output_type": "display_data"
    }
   ],
   "source": [
    "case_when(\n",
    "     str_detect(stage, \"IV\") ~ 4\n",
    "    ,str_detect(stage, \"III\") ~ 3\n",
    "    ,str_detect(stage, \"II\") ~ 2\n",
    "    ,str_detect(stage, \"I\") ~ 1\n",
    "    ,TRUE~0\n",
    ")"
   ]
  },
  {
   "cell_type": "markdown",
   "metadata": {},
   "source": [
    "## ------------------apply---------------------"
   ]
  },
  {
   "cell_type": "code",
   "execution_count": 4,
   "metadata": {
    "vscode": {
     "languageId": "r"
    }
   },
   "outputs": [
    {
     "data": {
      "text/html": [
       "<table class=\"dataframe\">\n",
       "<caption>A matrix: 10 × 10 of type int</caption>\n",
       "<tbody>\n",
       "\t<tr><td> 1</td><td> 2</td><td> 3</td><td> 4</td><td> 5</td><td> 6</td><td> 7</td><td> 8</td><td> 9</td><td> 10</td></tr>\n",
       "\t<tr><td>11</td><td>12</td><td>13</td><td>14</td><td>15</td><td>16</td><td>17</td><td>18</td><td>19</td><td> 20</td></tr>\n",
       "\t<tr><td>21</td><td>22</td><td>23</td><td>24</td><td>25</td><td>26</td><td>27</td><td>28</td><td>29</td><td> 30</td></tr>\n",
       "\t<tr><td>31</td><td>32</td><td>33</td><td>34</td><td>35</td><td>36</td><td>37</td><td>38</td><td>39</td><td> 40</td></tr>\n",
       "\t<tr><td>41</td><td>42</td><td>43</td><td>44</td><td>45</td><td>46</td><td>47</td><td>48</td><td>49</td><td> 50</td></tr>\n",
       "\t<tr><td>51</td><td>52</td><td>53</td><td>54</td><td>55</td><td>56</td><td>57</td><td>58</td><td>59</td><td> 60</td></tr>\n",
       "\t<tr><td>61</td><td>62</td><td>63</td><td>64</td><td>65</td><td>66</td><td>67</td><td>68</td><td>69</td><td> 70</td></tr>\n",
       "\t<tr><td>71</td><td>72</td><td>73</td><td>74</td><td>75</td><td>76</td><td>77</td><td>78</td><td>79</td><td> 80</td></tr>\n",
       "\t<tr><td>81</td><td>82</td><td>83</td><td>84</td><td>85</td><td>86</td><td>87</td><td>88</td><td>89</td><td> 90</td></tr>\n",
       "\t<tr><td>91</td><td>92</td><td>93</td><td>94</td><td>95</td><td>96</td><td>97</td><td>98</td><td>99</td><td>100</td></tr>\n",
       "</tbody>\n",
       "</table>\n"
      ],
      "text/latex": [
       "A matrix: 10 × 10 of type int\n",
       "\\begin{tabular}{llllllllll}\n",
       "\t  1 &  2 &  3 &  4 &  5 &  6 &  7 &  8 &  9 &  10\\\\\n",
       "\t 11 & 12 & 13 & 14 & 15 & 16 & 17 & 18 & 19 &  20\\\\\n",
       "\t 21 & 22 & 23 & 24 & 25 & 26 & 27 & 28 & 29 &  30\\\\\n",
       "\t 31 & 32 & 33 & 34 & 35 & 36 & 37 & 38 & 39 &  40\\\\\n",
       "\t 41 & 42 & 43 & 44 & 45 & 46 & 47 & 48 & 49 &  50\\\\\n",
       "\t 51 & 52 & 53 & 54 & 55 & 56 & 57 & 58 & 59 &  60\\\\\n",
       "\t 61 & 62 & 63 & 64 & 65 & 66 & 67 & 68 & 69 &  70\\\\\n",
       "\t 71 & 72 & 73 & 74 & 75 & 76 & 77 & 78 & 79 &  80\\\\\n",
       "\t 81 & 82 & 83 & 84 & 85 & 86 & 87 & 88 & 89 &  90\\\\\n",
       "\t 91 & 92 & 93 & 94 & 95 & 96 & 97 & 98 & 99 & 100\\\\\n",
       "\\end{tabular}\n"
      ],
      "text/markdown": [
       "\n",
       "A matrix: 10 × 10 of type int\n",
       "\n",
       "|  1 |  2 |  3 |  4 |  5 |  6 |  7 |  8 |  9 |  10 |\n",
       "| 11 | 12 | 13 | 14 | 15 | 16 | 17 | 18 | 19 |  20 |\n",
       "| 21 | 22 | 23 | 24 | 25 | 26 | 27 | 28 | 29 |  30 |\n",
       "| 31 | 32 | 33 | 34 | 35 | 36 | 37 | 38 | 39 |  40 |\n",
       "| 41 | 42 | 43 | 44 | 45 | 46 | 47 | 48 | 49 |  50 |\n",
       "| 51 | 52 | 53 | 54 | 55 | 56 | 57 | 58 | 59 |  60 |\n",
       "| 61 | 62 | 63 | 64 | 65 | 66 | 67 | 68 | 69 |  70 |\n",
       "| 71 | 72 | 73 | 74 | 75 | 76 | 77 | 78 | 79 |  80 |\n",
       "| 81 | 82 | 83 | 84 | 85 | 86 | 87 | 88 | 89 |  90 |\n",
       "| 91 | 92 | 93 | 94 | 95 | 96 | 97 | 98 | 99 | 100 |\n",
       "\n"
      ],
      "text/plain": [
       "      [,1] [,2] [,3] [,4] [,5] [,6] [,7] [,8] [,9] [,10]\n",
       " [1,]  1    2    3    4    5    6    7    8    9    10  \n",
       " [2,] 11   12   13   14   15   16   17   18   19    20  \n",
       " [3,] 21   22   23   24   25   26   27   28   29    30  \n",
       " [4,] 31   32   33   34   35   36   37   38   39    40  \n",
       " [5,] 41   42   43   44   45   46   47   48   49    50  \n",
       " [6,] 51   52   53   54   55   56   57   58   59    60  \n",
       " [7,] 61   62   63   64   65   66   67   68   69    70  \n",
       " [8,] 71   72   73   74   75   76   77   78   79    80  \n",
       " [9,] 81   82   83   84   85   86   87   88   89    90  \n",
       "[10,] 91   92   93   94   95   96   97   98   99   100  "
      ]
     },
     "metadata": {},
     "output_type": "display_data"
    }
   ],
   "source": [
    "mt2 <- matrix(data = 1:100, nrow=10,byrow = T)\n",
    "mt2"
   ]
  },
  {
   "cell_type": "code",
   "execution_count": 9,
   "metadata": {
    "vscode": {
     "languageId": "r"
    }
   },
   "outputs": [
    {
     "data": {
      "text/html": [
       "<style>\n",
       ".list-inline {list-style: none; margin:0; padding: 0}\n",
       ".list-inline>li {display: inline-block}\n",
       ".list-inline>li:not(:last-child)::after {content: \"\\00b7\"; padding: 0 .5ex}\n",
       "</style>\n",
       "<ol class=list-inline><li>55</li><li>155</li><li>255</li><li>355</li><li>455</li><li>555</li><li>655</li><li>755</li><li>855</li><li>955</li></ol>\n"
      ],
      "text/latex": [
       "\\begin{enumerate*}\n",
       "\\item 55\n",
       "\\item 155\n",
       "\\item 255\n",
       "\\item 355\n",
       "\\item 455\n",
       "\\item 555\n",
       "\\item 655\n",
       "\\item 755\n",
       "\\item 855\n",
       "\\item 955\n",
       "\\end{enumerate*}\n"
      ],
      "text/markdown": [
       "1. 55\n",
       "2. 155\n",
       "3. 255\n",
       "4. 355\n",
       "5. 455\n",
       "6. 555\n",
       "7. 655\n",
       "8. 755\n",
       "9. 855\n",
       "10. 955\n",
       "\n",
       "\n"
      ],
      "text/plain": [
       " [1]  55 155 255 355 455 555 655 755 855 955"
      ]
     },
     "metadata": {},
     "output_type": "display_data"
    },
    {
     "data": {
      "text/html": [
       "<style>\n",
       ".list-inline {list-style: none; margin:0; padding: 0}\n",
       ".list-inline>li {display: inline-block}\n",
       ".list-inline>li:not(:last-child)::after {content: \"\\00b7\"; padding: 0 .5ex}\n",
       "</style>\n",
       "<ol class=list-inline><li>55</li><li>155</li><li>255</li><li>355</li><li>455</li><li>555</li><li>655</li><li>755</li><li>855</li><li>955</li></ol>\n"
      ],
      "text/latex": [
       "\\begin{enumerate*}\n",
       "\\item 55\n",
       "\\item 155\n",
       "\\item 255\n",
       "\\item 355\n",
       "\\item 455\n",
       "\\item 555\n",
       "\\item 655\n",
       "\\item 755\n",
       "\\item 855\n",
       "\\item 955\n",
       "\\end{enumerate*}\n"
      ],
      "text/markdown": [
       "1. 55\n",
       "2. 155\n",
       "3. 255\n",
       "4. 355\n",
       "5. 455\n",
       "6. 555\n",
       "7. 655\n",
       "8. 755\n",
       "9. 855\n",
       "10. 955\n",
       "\n",
       "\n"
      ],
      "text/plain": [
       " [1]  55 155 255 355 455 555 655 755 855 955"
      ]
     },
     "metadata": {},
     "output_type": "display_data"
    }
   ],
   "source": [
    "apply(mt2,1,sum)\n",
    "rowSums(mt2)"
   ]
  },
  {
   "cell_type": "code",
   "execution_count": 11,
   "metadata": {
    "vscode": {
     "languageId": "r"
    }
   },
   "outputs": [
    {
     "data": {
      "text/html": [
       "<style>\n",
       ".list-inline {list-style: none; margin:0; padding: 0}\n",
       ".list-inline>li {display: inline-block}\n",
       ".list-inline>li:not(:last-child)::after {content: \"\\00b7\"; padding: 0 .5ex}\n",
       "</style>\n",
       "<ol class=list-inline><li>460</li><li>470</li><li>480</li><li>490</li><li>500</li><li>510</li><li>520</li><li>530</li><li>540</li><li>550</li></ol>\n"
      ],
      "text/latex": [
       "\\begin{enumerate*}\n",
       "\\item 460\n",
       "\\item 470\n",
       "\\item 480\n",
       "\\item 490\n",
       "\\item 500\n",
       "\\item 510\n",
       "\\item 520\n",
       "\\item 530\n",
       "\\item 540\n",
       "\\item 550\n",
       "\\end{enumerate*}\n"
      ],
      "text/markdown": [
       "1. 460\n",
       "2. 470\n",
       "3. 480\n",
       "4. 490\n",
       "5. 500\n",
       "6. 510\n",
       "7. 520\n",
       "8. 530\n",
       "9. 540\n",
       "10. 550\n",
       "\n",
       "\n"
      ],
      "text/plain": [
       " [1] 460 470 480 490 500 510 520 530 540 550"
      ]
     },
     "metadata": {},
     "output_type": "display_data"
    },
    {
     "data": {
      "text/html": [
       "<style>\n",
       ".list-inline {list-style: none; margin:0; padding: 0}\n",
       ".list-inline>li {display: inline-block}\n",
       ".list-inline>li:not(:last-child)::after {content: \"\\00b7\"; padding: 0 .5ex}\n",
       "</style>\n",
       "<ol class=list-inline><li>460</li><li>470</li><li>480</li><li>490</li><li>500</li><li>510</li><li>520</li><li>530</li><li>540</li><li>550</li></ol>\n"
      ],
      "text/latex": [
       "\\begin{enumerate*}\n",
       "\\item 460\n",
       "\\item 470\n",
       "\\item 480\n",
       "\\item 490\n",
       "\\item 500\n",
       "\\item 510\n",
       "\\item 520\n",
       "\\item 530\n",
       "\\item 540\n",
       "\\item 550\n",
       "\\end{enumerate*}\n"
      ],
      "text/markdown": [
       "1. 460\n",
       "2. 470\n",
       "3. 480\n",
       "4. 490\n",
       "5. 500\n",
       "6. 510\n",
       "7. 520\n",
       "8. 530\n",
       "9. 540\n",
       "10. 550\n",
       "\n",
       "\n"
      ],
      "text/plain": [
       " [1] 460 470 480 490 500 510 520 530 540 550"
      ]
     },
     "metadata": {},
     "output_type": "display_data"
    }
   ],
   "source": [
    "apply(mt2,2,sum)\n",
    "colSums(mt2)"
   ]
  },
  {
   "cell_type": "code",
   "execution_count": null,
   "metadata": {
    "vscode": {
     "languageId": "r"
    }
   },
   "outputs": [],
   "source": [
    "lapply(); tapply(); sapply(); vapply()"
   ]
  },
  {
   "cell_type": "markdown",
   "metadata": {},
   "source": [
    "## ------------------map---------------------"
   ]
  },
  {
   "cell_type": "code",
   "execution_count": 26,
   "metadata": {
    "vscode": {
     "languageId": "r"
    }
   },
   "outputs": [
    {
     "data": {
      "text/html": [
       "<table class=\"dataframe\">\n",
       "<caption>A data.frame: 5 × 5</caption>\n",
       "<thead>\n",
       "\t<tr><th scope=col>V1</th><th scope=col>V2</th><th scope=col>V3</th><th scope=col>V4</th><th scope=col>V5</th></tr>\n",
       "\t<tr><th scope=col>&lt;int&gt;</th><th scope=col>&lt;int&gt;</th><th scope=col>&lt;int&gt;</th><th scope=col>&lt;int&gt;</th><th scope=col>&lt;int&gt;</th></tr>\n",
       "</thead>\n",
       "<tbody>\n",
       "\t<tr><td> 1</td><td> 2</td><td> 3</td><td> 4</td><td> 5</td></tr>\n",
       "\t<tr><td>11</td><td>12</td><td>13</td><td>14</td><td>15</td></tr>\n",
       "\t<tr><td>21</td><td>22</td><td>23</td><td>24</td><td>25</td></tr>\n",
       "\t<tr><td>31</td><td>32</td><td>33</td><td>34</td><td>35</td></tr>\n",
       "\t<tr><td>41</td><td>42</td><td>43</td><td>44</td><td>45</td></tr>\n",
       "</tbody>\n",
       "</table>\n"
      ],
      "text/latex": [
       "A data.frame: 5 × 5\n",
       "\\begin{tabular}{lllll}\n",
       " V1 & V2 & V3 & V4 & V5\\\\\n",
       " <int> & <int> & <int> & <int> & <int>\\\\\n",
       "\\hline\n",
       "\t  1 &  2 &  3 &  4 &  5\\\\\n",
       "\t 11 & 12 & 13 & 14 & 15\\\\\n",
       "\t 21 & 22 & 23 & 24 & 25\\\\\n",
       "\t 31 & 32 & 33 & 34 & 35\\\\\n",
       "\t 41 & 42 & 43 & 44 & 45\\\\\n",
       "\\end{tabular}\n"
      ],
      "text/markdown": [
       "\n",
       "A data.frame: 5 × 5\n",
       "\n",
       "| V1 &lt;int&gt; | V2 &lt;int&gt; | V3 &lt;int&gt; | V4 &lt;int&gt; | V5 &lt;int&gt; |\n",
       "|---|---|---|---|---|\n",
       "|  1 |  2 |  3 |  4 |  5 |\n",
       "| 11 | 12 | 13 | 14 | 15 |\n",
       "| 21 | 22 | 23 | 24 | 25 |\n",
       "| 31 | 32 | 33 | 34 | 35 |\n",
       "| 41 | 42 | 43 | 44 | 45 |\n",
       "\n"
      ],
      "text/plain": [
       "  V1 V2 V3 V4 V5\n",
       "1  1  2  3  4  5\n",
       "2 11 12 13 14 15\n",
       "3 21 22 23 24 25\n",
       "4 31 32 33 34 35\n",
       "5 41 42 43 44 45"
      ]
     },
     "metadata": {},
     "output_type": "display_data"
    }
   ],
   "source": [
    "df2 = as.data.frame(mt2[1:5,1:5])\n",
    "df2"
   ]
  },
  {
   "cell_type": "code",
   "execution_count": 27,
   "metadata": {
    "vscode": {
     "languageId": "r"
    }
   },
   "outputs": [
    {
     "data": {
      "text/html": [
       "<table class=\"dataframe\">\n",
       "<caption>A tibble: 1 × 5</caption>\n",
       "<thead>\n",
       "\t<tr><th scope=col>V1</th><th scope=col>V2</th><th scope=col>V3</th><th scope=col>V4</th><th scope=col>V5</th></tr>\n",
       "\t<tr><th scope=col>&lt;int&gt;</th><th scope=col>&lt;int&gt;</th><th scope=col>&lt;int&gt;</th><th scope=col>&lt;int&gt;</th><th scope=col>&lt;int&gt;</th></tr>\n",
       "</thead>\n",
       "<tbody>\n",
       "\t<tr><td>105</td><td>110</td><td>115</td><td>120</td><td>125</td></tr>\n",
       "</tbody>\n",
       "</table>\n"
      ],
      "text/latex": [
       "A tibble: 1 × 5\n",
       "\\begin{tabular}{lllll}\n",
       " V1 & V2 & V3 & V4 & V5\\\\\n",
       " <int> & <int> & <int> & <int> & <int>\\\\\n",
       "\\hline\n",
       "\t 105 & 110 & 115 & 120 & 125\\\\\n",
       "\\end{tabular}\n"
      ],
      "text/markdown": [
       "\n",
       "A tibble: 1 × 5\n",
       "\n",
       "| V1 &lt;int&gt; | V2 &lt;int&gt; | V3 &lt;int&gt; | V4 &lt;int&gt; | V5 &lt;int&gt; |\n",
       "|---|---|---|---|---|\n",
       "| 105 | 110 | 115 | 120 | 125 |\n",
       "\n"
      ],
      "text/plain": [
       "  V1  V2  V3  V4  V5 \n",
       "1 105 110 115 120 125"
      ]
     },
     "metadata": {},
     "output_type": "display_data"
    }
   ],
   "source": [
    "purrr::map_dfc(df2,~sum(.x))"
   ]
  },
  {
   "cell_type": "code",
   "execution_count": 28,
   "metadata": {
    "vscode": {
     "languageId": "r"
    }
   },
   "outputs": [
    {
     "data": {
      "text/html": [
       "<dl>\n",
       "\t<dt>$V1</dt>\n",
       "\t\t<dd>105</dd>\n",
       "\t<dt>$V2</dt>\n",
       "\t\t<dd>110</dd>\n",
       "\t<dt>$V3</dt>\n",
       "\t\t<dd>115</dd>\n",
       "\t<dt>$V4</dt>\n",
       "\t\t<dd>120</dd>\n",
       "\t<dt>$V5</dt>\n",
       "\t\t<dd>125</dd>\n",
       "</dl>\n"
      ],
      "text/latex": [
       "\\begin{description}\n",
       "\\item[\\$V1] 105\n",
       "\\item[\\$V2] 110\n",
       "\\item[\\$V3] 115\n",
       "\\item[\\$V4] 120\n",
       "\\item[\\$V5] 125\n",
       "\\end{description}\n"
      ],
      "text/markdown": [
       "$V1\n",
       ":   105\n",
       "$V2\n",
       ":   110\n",
       "$V3\n",
       ":   115\n",
       "$V4\n",
       ":   120\n",
       "$V5\n",
       ":   125\n",
       "\n",
       "\n"
      ],
      "text/plain": [
       "$V1\n",
       "[1] 105\n",
       "\n",
       "$V2\n",
       "[1] 110\n",
       "\n",
       "$V3\n",
       "[1] 115\n",
       "\n",
       "$V4\n",
       "[1] 120\n",
       "\n",
       "$V5\n",
       "[1] 125\n"
      ]
     },
     "metadata": {},
     "output_type": "display_data"
    }
   ],
   "source": [
    "map(df2,~sum(.x))"
   ]
  },
  {
   "cell_type": "code",
   "execution_count": 32,
   "metadata": {
    "vscode": {
     "languageId": "r"
    }
   },
   "outputs": [
    {
     "name": "stderr",
     "output_type": "stream",
     "text": [
      "[conflicted] Will prefer \u001b[34mpurrr::map\u001b[39m over any other package\n"
     ]
    }
   ],
   "source": [
    "conflicted::conflict_prefer(\"map\",\"purrr\")"
   ]
  },
  {
   "cell_type": "code",
   "execution_count": 29,
   "metadata": {
    "vscode": {
     "languageId": "r"
    }
   },
   "outputs": [
    {
     "data": {
      "text/html": [
       "<style>\n",
       ".list-inline {list-style: none; margin:0; padding: 0}\n",
       ".list-inline>li {display: inline-block}\n",
       ".list-inline>li:not(:last-child)::after {content: \"\\00b7\"; padding: 0 .5ex}\n",
       "</style>\n",
       "<ol class=list-inline><li>105</li><li>110</li><li>115</li><li>120</li><li>125</li></ol>\n"
      ],
      "text/latex": [
       "\\begin{enumerate*}\n",
       "\\item 105\n",
       "\\item 110\n",
       "\\item 115\n",
       "\\item 120\n",
       "\\item 125\n",
       "\\end{enumerate*}\n"
      ],
      "text/markdown": [
       "1. 105\n",
       "2. 110\n",
       "3. 115\n",
       "4. 120\n",
       "5. 125\n",
       "\n",
       "\n"
      ],
      "text/plain": [
       "[1] 105 110 115 120 125"
      ]
     },
     "metadata": {},
     "output_type": "display_data"
    }
   ],
   "source": [
    "map_dbl(df2,~sum(.x)) %>% unname()"
   ]
  },
  {
   "cell_type": "code",
   "execution_count": 30,
   "metadata": {
    "vscode": {
     "languageId": "r"
    }
   },
   "outputs": [
    {
     "data": {
      "text/html": [
       "<table class=\"dataframe\">\n",
       "<caption>A tibble: 1 × 5</caption>\n",
       "<thead>\n",
       "\t<tr><th scope=col>V1</th><th scope=col>V2</th><th scope=col>V3</th><th scope=col>V4</th><th scope=col>V5</th></tr>\n",
       "\t<tr><th scope=col>&lt;int&gt;</th><th scope=col>&lt;int&gt;</th><th scope=col>&lt;int&gt;</th><th scope=col>&lt;int&gt;</th><th scope=col>&lt;int&gt;</th></tr>\n",
       "</thead>\n",
       "<tbody>\n",
       "\t<tr><td>105</td><td>110</td><td>115</td><td>120</td><td>125</td></tr>\n",
       "</tbody>\n",
       "</table>\n"
      ],
      "text/latex": [
       "A tibble: 1 × 5\n",
       "\\begin{tabular}{lllll}\n",
       " V1 & V2 & V3 & V4 & V5\\\\\n",
       " <int> & <int> & <int> & <int> & <int>\\\\\n",
       "\\hline\n",
       "\t 105 & 110 & 115 & 120 & 125\\\\\n",
       "\\end{tabular}\n"
      ],
      "text/markdown": [
       "\n",
       "A tibble: 1 × 5\n",
       "\n",
       "| V1 &lt;int&gt; | V2 &lt;int&gt; | V3 &lt;int&gt; | V4 &lt;int&gt; | V5 &lt;int&gt; |\n",
       "|---|---|---|---|---|\n",
       "| 105 | 110 | 115 | 120 | 125 |\n",
       "\n"
      ],
      "text/plain": [
       "  V1  V2  V3  V4  V5 \n",
       "1 105 110 115 120 125"
      ]
     },
     "metadata": {},
     "output_type": "display_data"
    }
   ],
   "source": [
    "map_dfr(df2,~sum(.x))"
   ]
  },
  {
   "cell_type": "code",
   "execution_count": 34,
   "metadata": {
    "vscode": {
     "languageId": "r"
    }
   },
   "outputs": [
    {
     "data": {
      "text/html": [
       "<style>\n",
       ".dl-inline {width: auto; margin:0; padding: 0}\n",
       ".dl-inline>dt, .dl-inline>dd {float: none; width: auto; display: inline-block}\n",
       ".dl-inline>dt::after {content: \":\\0020\"; padding-right: .5ex}\n",
       ".dl-inline>dt:not(:first-of-type) {padding-left: .5ex}\n",
       "</style><dl class=dl-inline><dt>V1</dt><dd>105</dd><dt>V2</dt><dd>110</dd><dt>V3</dt><dd>115</dd><dt>V4</dt><dd>120</dd><dt>V5</dt><dd>125</dd></dl>\n"
      ],
      "text/latex": [
       "\\begin{description*}\n",
       "\\item[V1] 105\n",
       "\\item[V2] 110\n",
       "\\item[V3] 115\n",
       "\\item[V4] 120\n",
       "\\item[V5] 125\n",
       "\\end{description*}\n"
      ],
      "text/markdown": [
       "V1\n",
       ":   105V2\n",
       ":   110V3\n",
       ":   115V4\n",
       ":   120V5\n",
       ":   125\n",
       "\n"
      ],
      "text/plain": [
       " V1  V2  V3  V4  V5 \n",
       "105 110 115 120 125 "
      ]
     },
     "metadata": {},
     "output_type": "display_data"
    }
   ],
   "source": [
    "map_dbl(df2,function(x) {\n",
    "    a=sum(x)\n",
    "    return(a)\n",
    "})"
   ]
  }
 ],
 "metadata": {
  "kernelspec": {
   "display_name": "R",
   "language": "R",
   "name": "ir"
  },
  "language_info": {
   "codemirror_mode": "r",
   "file_extension": ".r",
   "mimetype": "text/x-r-source",
   "name": "R",
   "pygments_lexer": "r",
   "version": "4.2.1"
  },
  "orig_nbformat": 4
 },
 "nbformat": 4,
 "nbformat_minor": 2
}
