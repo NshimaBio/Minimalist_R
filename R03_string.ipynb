{
 "cells": [
  {
   "cell_type": "markdown",
   "metadata": {},
   "source": [
    "# 字符处理"
   ]
  },
  {
   "cell_type": "markdown",
   "metadata": {},
   "source": [
    "- 分解字符串"
   ]
  },
  {
   "cell_type": "code",
   "execution_count": 1,
   "metadata": {
    "vscode": {
     "languageId": "r"
    }
   },
   "outputs": [
    {
     "name": "stderr",
     "output_type": "stream",
     "text": [
      "-- \u001b[1mAttaching packages\u001b[22m --------------------------------------- tidyverse 1.3.1 --\n",
      "\n",
      "\u001b[32mv\u001b[39m \u001b[34mggplot2\u001b[39m 3.3.6     \u001b[32mv\u001b[39m \u001b[34mpurrr  \u001b[39m 0.3.4\n",
      "\u001b[32mv\u001b[39m \u001b[34mtibble \u001b[39m 3.1.7     \u001b[32mv\u001b[39m \u001b[34mdplyr  \u001b[39m 1.0.9\n",
      "\u001b[32mv\u001b[39m \u001b[34mtidyr  \u001b[39m 1.2.0     \u001b[32mv\u001b[39m \u001b[34mstringr\u001b[39m 1.4.0\n",
      "\u001b[32mv\u001b[39m \u001b[34mreadr  \u001b[39m 2.1.2     \u001b[32mv\u001b[39m \u001b[34mforcats\u001b[39m 0.5.1\n",
      "\n",
      "-- \u001b[1mConflicts\u001b[22m ------------------------------------------ tidyverse_conflicts() --\n",
      "\u001b[31mx\u001b[39m \u001b[34mdplyr\u001b[39m::\u001b[32mfilter()\u001b[39m masks \u001b[34mstats\u001b[39m::filter()\n",
      "\u001b[31mx\u001b[39m \u001b[34mdplyr\u001b[39m::\u001b[32mlag()\u001b[39m    masks \u001b[34mstats\u001b[39m::lag()\n",
      "\n"
     ]
    }
   ],
   "source": [
    "library(tidyverse)"
   ]
  },
  {
   "cell_type": "markdown",
   "metadata": {},
   "source": [
    "https://www.omicsclass.com/article/1075"
   ]
  },
  {
   "cell_type": "code",
   "execution_count": 8,
   "metadata": {
    "vscode": {
     "languageId": "r"
    }
   },
   "outputs": [],
   "source": [
    "s1 = \"TCGA-02-0001-01C-01D-0182-01\""
   ]
  },
  {
   "cell_type": "code",
   "execution_count": 13,
   "metadata": {
    "vscode": {
     "languageId": "r"
    }
   },
   "outputs": [
    {
     "data": {
      "text/html": [
       "<table class=\"dataframe\">\n",
       "<caption>A matrix: 1 × 7 of type chr</caption>\n",
       "<tbody>\n",
       "\t<tr><td>TCGA</td><td>02</td><td>0001</td><td>01C</td><td>01D</td><td>0182</td><td>01</td></tr>\n",
       "</tbody>\n",
       "</table>\n"
      ],
      "text/latex": [
       "A matrix: 1 × 7 of type chr\n",
       "\\begin{tabular}{lllllll}\n",
       "\t TCGA & 02 & 0001 & 01C & 01D & 0182 & 01\\\\\n",
       "\\end{tabular}\n"
      ],
      "text/markdown": [
       "\n",
       "A matrix: 1 × 7 of type chr\n",
       "\n",
       "| TCGA | 02 | 0001 | 01C | 01D | 0182 | 01 |\n",
       "\n"
      ],
      "text/plain": [
       "     [,1] [,2] [,3] [,4] [,5] [,6] [,7]\n",
       "[1,] TCGA 02   0001 01C  01D  0182 01  "
      ]
     },
     "metadata": {},
     "output_type": "display_data"
    }
   ],
   "source": [
    "s2 = str_split(string=s1,pattern=\"-\",simplify = T); s2"
   ]
  },
  {
   "cell_type": "code",
   "execution_count": 16,
   "metadata": {
    "vscode": {
     "languageId": "r"
    }
   },
   "outputs": [
    {
     "data": {
      "text/html": [
       "'01C'"
      ],
      "text/latex": [
       "'01C'"
      ],
      "text/markdown": [
       "'01C'"
      ],
      "text/plain": [
       "[1] \"01C\""
      ]
     },
     "metadata": {},
     "output_type": "display_data"
    }
   ],
   "source": [
    "s2[4]"
   ]
  },
  {
   "cell_type": "code",
   "execution_count": 18,
   "metadata": {
    "vscode": {
     "languageId": "r"
    }
   },
   "outputs": [
    {
     "data": {
      "text/html": [
       "'01C'"
      ],
      "text/latex": [
       "'01C'"
      ],
      "text/markdown": [
       "'01C'"
      ],
      "text/plain": [
       "[1] \"01C\""
      ]
     },
     "metadata": {},
     "output_type": "display_data"
    }
   ],
   "source": [
    "str_sub(s1,start = 14,end = 16)"
   ]
  },
  {
   "cell_type": "code",
   "execution_count": 19,
   "metadata": {
    "vscode": {
     "languageId": "r"
    }
   },
   "outputs": [
    {
     "data": {
      "text/html": [
       "'TCGA_02-0001-01C-01D-0182-01'"
      ],
      "text/latex": [
       "'TCGA\\_02-0001-01C-01D-0182-01'"
      ],
      "text/markdown": [
       "'TCGA_02-0001-01C-01D-0182-01'"
      ],
      "text/plain": [
       "[1] \"TCGA_02-0001-01C-01D-0182-01\""
      ]
     },
     "metadata": {},
     "output_type": "display_data"
    }
   ],
   "source": [
    "str_replace(string=s1, pattern=\"-\", replacement=\"_\")"
   ]
  },
  {
   "cell_type": "code",
   "execution_count": 20,
   "metadata": {
    "vscode": {
     "languageId": "r"
    }
   },
   "outputs": [
    {
     "data": {
      "text/html": [
       "'TCGA_02_0001_01C_01D_0182_01'"
      ],
      "text/latex": [
       "'TCGA\\_02\\_0001\\_01C\\_01D\\_0182\\_01'"
      ],
      "text/markdown": [
       "'TCGA_02_0001_01C_01D_0182_01'"
      ],
      "text/plain": [
       "[1] \"TCGA_02_0001_01C_01D_0182_01\""
      ]
     },
     "metadata": {},
     "output_type": "display_data"
    }
   ],
   "source": [
    "str_replace_all(s1, \"-\", \"_\")"
   ]
  },
  {
   "cell_type": "code",
   "execution_count": 22,
   "metadata": {
    "vscode": {
     "languageId": "r"
    }
   },
   "outputs": [
    {
     "data": {
      "text/html": [
       "'TCGA02-0001-01C-01D-0182-01'"
      ],
      "text/latex": [
       "'TCGA02-0001-01C-01D-0182-01'"
      ],
      "text/markdown": [
       "'TCGA02-0001-01C-01D-0182-01'"
      ],
      "text/plain": [
       "[1] \"TCGA02-0001-01C-01D-0182-01\""
      ]
     },
     "metadata": {},
     "output_type": "display_data"
    },
    {
     "data": {
      "text/html": [
       "'TCGA02000101C01D018201'"
      ],
      "text/latex": [
       "'TCGA02000101C01D018201'"
      ],
      "text/markdown": [
       "'TCGA02000101C01D018201'"
      ],
      "text/plain": [
       "[1] \"TCGA02000101C01D018201\""
      ]
     },
     "metadata": {},
     "output_type": "display_data"
    }
   ],
   "source": [
    "str_remove(string=s1, pattern=\"-\")\n",
    "str_remove_all(s1, \"-\")"
   ]
  },
  {
   "cell_type": "code",
   "execution_count": 24,
   "metadata": {
    "vscode": {
     "languageId": "r"
    }
   },
   "outputs": [],
   "source": [
    "dir = \"GSE_RAW\""
   ]
  },
  {
   "cell_type": "code",
   "execution_count": 23,
   "metadata": {
    "vscode": {
     "languageId": "r"
    }
   },
   "outputs": [],
   "source": [
    "file_dir = c(\"control\",\"treatment\")"
   ]
  },
  {
   "cell_type": "code",
   "execution_count": 30,
   "metadata": {
    "vscode": {
     "languageId": "r"
    }
   },
   "outputs": [
    {
     "data": {
      "text/html": [
       "<style>\n",
       ".list-inline {list-style: none; margin:0; padding: 0}\n",
       ".list-inline>li {display: inline-block}\n",
       ".list-inline>li:not(:last-child)::after {content: \"\\00b7\"; padding: 0 .5ex}\n",
       "</style>\n",
       "<ol class=list-inline><li>'GSE_RAW/control'</li><li>'GSE_RAW/treatment'</li></ol>\n"
      ],
      "text/latex": [
       "\\begin{enumerate*}\n",
       "\\item 'GSE\\_RAW/control'\n",
       "\\item 'GSE\\_RAW/treatment'\n",
       "\\end{enumerate*}\n"
      ],
      "text/markdown": [
       "1. 'GSE_RAW/control'\n",
       "2. 'GSE_RAW/treatment'\n",
       "\n",
       "\n"
      ],
      "text/plain": [
       "[1] \"GSE_RAW/control\"   \"GSE_RAW/treatment\""
      ]
     },
     "metadata": {},
     "output_type": "display_data"
    },
    {
     "data": {
      "text/html": [
       "<style>\n",
       ".list-inline {list-style: none; margin:0; padding: 0}\n",
       ".list-inline>li {display: inline-block}\n",
       ".list-inline>li:not(:last-child)::after {content: \"\\00b7\"; padding: 0 .5ex}\n",
       "</style>\n",
       "<ol class=list-inline><li>'GSE_RAW/control'</li><li>'GSE_RAW/treatment'</li></ol>\n"
      ],
      "text/latex": [
       "\\begin{enumerate*}\n",
       "\\item 'GSE\\_RAW/control'\n",
       "\\item 'GSE\\_RAW/treatment'\n",
       "\\end{enumerate*}\n"
      ],
      "text/markdown": [
       "1. 'GSE_RAW/control'\n",
       "2. 'GSE_RAW/treatment'\n",
       "\n",
       "\n"
      ],
      "text/plain": [
       "[1] \"GSE_RAW/control\"   \"GSE_RAW/treatment\""
      ]
     },
     "metadata": {},
     "output_type": "display_data"
    },
    {
     "data": {
      "text/html": [
       "<style>\n",
       ".list-inline {list-style: none; margin:0; padding: 0}\n",
       ".list-inline>li {display: inline-block}\n",
       ".list-inline>li:not(:last-child)::after {content: \"\\00b7\"; padding: 0 .5ex}\n",
       "</style>\n",
       "<ol class=list-inline><li>'GSE_RAW/control'</li><li>'GSE_RAW/treatment'</li></ol>\n"
      ],
      "text/latex": [
       "\\begin{enumerate*}\n",
       "\\item 'GSE\\_RAW/control'\n",
       "\\item 'GSE\\_RAW/treatment'\n",
       "\\end{enumerate*}\n"
      ],
      "text/markdown": [
       "1. 'GSE_RAW/control'\n",
       "2. 'GSE_RAW/treatment'\n",
       "\n",
       "\n"
      ],
      "text/plain": [
       "[1] \"GSE_RAW/control\"   \"GSE_RAW/treatment\""
      ]
     },
     "metadata": {},
     "output_type": "display_data"
    }
   ],
   "source": [
    "str_c(dir,'/',file_dir)\n",
    "paste0(dir,'/',file_dir)\n",
    "paste(dir,file_dir,sep = '/')"
   ]
  },
  {
   "cell_type": "code",
   "execution_count": 26,
   "metadata": {
    "vscode": {
     "languageId": "r"
    }
   },
   "outputs": [
    {
     "data": {
      "text/html": [
       "<style>\n",
       ".list-inline {list-style: none; margin:0; padding: 0}\n",
       ".list-inline>li {display: inline-block}\n",
       ".list-inline>li:not(:last-child)::after {content: \"\\00b7\"; padding: 0 .5ex}\n",
       "</style>\n",
       "<ol class=list-inline><li>'GSE_RAW/control'</li><li>'GSE_RAW/treatment'</li></ol>\n"
      ],
      "text/latex": [
       "\\begin{enumerate*}\n",
       "\\item 'GSE\\_RAW/control'\n",
       "\\item 'GSE\\_RAW/treatment'\n",
       "\\end{enumerate*}\n"
      ],
      "text/markdown": [
       "1. 'GSE_RAW/control'\n",
       "2. 'GSE_RAW/treatment'\n",
       "\n",
       "\n"
      ],
      "text/plain": [
       "[1] \"GSE_RAW/control\"   \"GSE_RAW/treatment\""
      ]
     },
     "metadata": {},
     "output_type": "display_data"
    }
   ],
   "source": [
    "file.path(dir,file_dir)"
   ]
  },
  {
   "cell_type": "code",
   "execution_count": 28,
   "metadata": {
    "vscode": {
     "languageId": "r"
    }
   },
   "outputs": [
    {
     "data": {
      "text/html": [
       "'GSE_RAW/control'"
      ],
      "text/latex": [
       "'GSE\\_RAW/control'"
      ],
      "text/markdown": [
       "'GSE_RAW/control'"
      ],
      "text/plain": [
       "GSE_RAW/control"
      ]
     },
     "metadata": {},
     "output_type": "display_data"
    }
   ],
   "source": [
    "str_glue(dir,'/',file_dir[1])\n",
    "str_glue(dir,'/',file_dir[2])"
   ]
  },
  {
   "cell_type": "code",
   "execution_count": 1,
   "metadata": {
    "vscode": {
     "languageId": "r"
    }
   },
   "outputs": [
    {
     "data": {
      "text/html": [
       "'APPLE'"
      ],
      "text/latex": [
       "'APPLE'"
      ],
      "text/markdown": [
       "'APPLE'"
      ],
      "text/plain": [
       "[1] \"APPLE\""
      ]
     },
     "metadata": {},
     "output_type": "display_data"
    },
    {
     "data": {
      "text/html": [
       "'apple'"
      ],
      "text/latex": [
       "'apple'"
      ],
      "text/markdown": [
       "'apple'"
      ],
      "text/plain": [
       "[1] \"apple\""
      ]
     },
     "metadata": {},
     "output_type": "display_data"
    },
    {
     "data": {
      "text/html": [
       "'Apple'"
      ],
      "text/latex": [
       "'Apple'"
      ],
      "text/markdown": [
       "'Apple'"
      ],
      "text/plain": [
       "[1] \"Apple\""
      ]
     },
     "metadata": {},
     "output_type": "display_data"
    }
   ],
   "source": [
    "str_to_upper(\"apple\")\n",
    "str_to_lower(\"APPLE\")\n",
    "str_to_title(\"apple\")"
   ]
  },
  {
   "cell_type": "markdown",
   "metadata": {},
   "source": [
    "## 正则表达式"
   ]
  }
 ],
 "metadata": {
  "kernelspec": {
   "display_name": "R",
   "language": "R",
   "name": "ir"
  },
  "language_info": {
   "codemirror_mode": "r",
   "file_extension": ".r",
   "mimetype": "text/x-r-source",
   "name": "R",
   "pygments_lexer": "r",
   "version": "4.2.1"
  },
  "orig_nbformat": 4,
  "vscode": {
   "interpreter": {
    "hash": "6b0f197fc8c8c2af25487f3b4d8c3d8cc2ec6484244000c2e6194912a4bf7155"
   }
  }
 },
 "nbformat": 4,
 "nbformat_minor": 2
}
